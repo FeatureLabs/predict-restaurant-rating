{
 "cells": [
  {
   "cell_type": "markdown",
   "metadata": {},
   "source": [
    "# Predicting the rating given to a restaurant based solely on the given review text and title using NLP custom primitives.\n",
    "\n",
    "<a style=\"margin:30px\" href=\"https://www.featuretools.com\">\n",
    "    <img width=50% src=\"https://www.featuretools.com/wp-content/uploads/2017/12/FeatureLabs-Logo-Tangerine-800.png\" alt=\"Featuretools\" />\n",
    "</a>\n",
    "\n",
    "**As customers visit places such as restaurants, they will oftentimes leave a review of some sort. Using data from TripAdvisor, we investigate how this textual, unstructured data can be used to predict the overall thoughts of the customer on that restuarant or other place, represented in a star rating.**\n",
    "\n",
    "In this tutorial, we show how [Featuretools](https://www.featuretools.com) can be used to create custom Natural Language Processing features to then be used in feature engingeering to train an accurate machine learning model to predict the customer's rating based on the text of their review.\n",
    "\n",
    "*Note: If you are running this notebook yourself, refer to the read me on Github for instructions to download the Instacart dataset*\n",
    "\n",
    "## Highlights\n",
    "\n",
    "* We create custom primitives to create structured data from unstructured, hard to parse, textual data\n",
    "* We build a pipeline that it can be reused for numerous NLP prediction problems (You can try this yourself!)\n",
    "* We use pretrained models as well as some self-trained models to get the highest accuracy possible on this limited dataset."
   ]
  },
  {
   "cell_type": "code",
   "execution_count": 1,
   "metadata": {},
   "outputs": [
    {
     "name": "stdout",
     "output_type": "stream",
     "text": [
      "Featuretools version 0.9.0\n"
     ]
    }
   ],
   "source": [
    "import nltk\n",
    "import pandas as pd\n",
    "import json\n",
    "import seaborn as sns\n",
    "import matplotlib.pyplot as plt\n",
    "import string\n",
    "import featuretools as ft\n",
    "import featuretools.variable_types as vtypes\n",
    "import re\n",
    "import seaborn as sns\n",
    "import sklearn\n",
    "import tensorflow as tf\n",
    "import tensorflow_hub as hub\n",
    "import matplotlib.pyplot as plt\n",
    "import numpy as np\n",
    "import helpers\n",
    "\n",
    "from featuretools.primitives.base.transform_primitive_base import (\n",
    "    TransformPrimitive\n",
    ")\n",
    "from featuretools.primitives import *\n",
    "from nltk.tokenize import word_tokenize\n",
    "from nltk.corpus import stopwords\n",
    "from nltk.stem import SnowballStemmer\n",
    "from nltk.sentiment.vader import SentimentIntensityAnalyzer\n",
    "from nltk.tokenize.treebank import TreebankWordDetokenizer\n",
    "from sklearn.model_selection import train_test_split\n",
    "from sklearn.feature_extraction.text import CountVectorizer, TfidfVectorizer\n",
    "from sklearn.decomposition import TruncatedSVD\n",
    "from sklearn.linear_model import LogisticRegression\n",
    "from sklearn.experimental import enable_hist_gradient_boosting\n",
    "from sklearn.ensemble import HistGradientBoostingClassifier\n",
    "from sklearn.pipeline import make_pipeline\n",
    "from sklearn.ensemble import RandomForestClassifier\n",
    "from sklearn.naive_bayes import BernoulliNB\n",
    "from sklearn.ensemble import VotingClassifier\n",
    "\n",
    "dtk = TreebankWordDetokenizer()\n",
    "module_url = \"https://tfhub.dev/google/universal-sentence-encoder/2\"\n",
    "embed = hub.Module(module_url)\n",
    "\n",
    "print('Featuretools version {}'.format(ft.__version__))"
   ]
  },
  {
   "cell_type": "markdown",
   "metadata": {},
   "source": [
    "## Step 1. Load Data\n",
    "We start by loading in the data from our machine. This data is from a kaggle dataset, and instuctions on how to download it can be found in the read me on github. In this data, we only use one set: the set of reviews for each restaurant, that is formatted as a single table with a couple fields: the title of the review, the text of the review, the number of stars the reviewer gave, the price of the restaurant, and the date the review was submitted."
   ]
  },
  {
   "cell_type": "code",
   "execution_count": 2,
   "metadata": {},
   "outputs": [
    {
     "data": {
      "text/html": [
       "<div>\n",
       "<style scoped>\n",
       "    .dataframe tbody tr th:only-of-type {\n",
       "        vertical-align: middle;\n",
       "    }\n",
       "\n",
       "    .dataframe tbody tr th {\n",
       "        vertical-align: top;\n",
       "    }\n",
       "\n",
       "    .dataframe thead th {\n",
       "        text-align: right;\n",
       "    }\n",
       "</style>\n",
       "<table border=\"1\" class=\"dataframe\">\n",
       "  <thead>\n",
       "    <tr style=\"text-align: right;\">\n",
       "      <th></th>\n",
       "      <th>title</th>\n",
       "      <th>text</th>\n",
       "      <th>date</th>\n",
       "      <th>stars</th>\n",
       "      <th>price</th>\n",
       "      <th>index</th>\n",
       "    </tr>\n",
       "  </thead>\n",
       "  <tbody>\n",
       "    <tr>\n",
       "      <th>0</th>\n",
       "      <td>Great drinks and food</td>\n",
       "      <td>They have great local craft beers and probably...</td>\n",
       "      <td>2016-03-28</td>\n",
       "      <td>4</td>\n",
       "      <td>2</td>\n",
       "      <td>0</td>\n",
       "    </tr>\n",
       "    <tr>\n",
       "      <th>1</th>\n",
       "      <td>Good food &amp;amp; beer</td>\n",
       "      <td>We went to the downtown SF location. The resta...</td>\n",
       "      <td>2016-03-27</td>\n",
       "      <td>4</td>\n",
       "      <td>2</td>\n",
       "      <td>1</td>\n",
       "    </tr>\n",
       "    <tr>\n",
       "      <th>2</th>\n",
       "      <td>Pretty good beers</td>\n",
       "      <td>I just came to this place for drinks with an o...</td>\n",
       "      <td>2016-03-16</td>\n",
       "      <td>4</td>\n",
       "      <td>2</td>\n",
       "      <td>2</td>\n",
       "    </tr>\n",
       "    <tr>\n",
       "      <th>3</th>\n",
       "      <td>Ridiculously overpriced (yes I live in SF)</td>\n",
       "      <td>Mediocre food (not bad, just mediocre, you can...</td>\n",
       "      <td>2016-03-08</td>\n",
       "      <td>3</td>\n",
       "      <td>2</td>\n",
       "      <td>3</td>\n",
       "    </tr>\n",
       "    <tr>\n",
       "      <th>4</th>\n",
       "      <td>Team dinner</td>\n",
       "      <td>We headed out for our team dinner to this esta...</td>\n",
       "      <td>2016-03-01</td>\n",
       "      <td>4</td>\n",
       "      <td>2</td>\n",
       "      <td>4</td>\n",
       "    </tr>\n",
       "    <tr>\n",
       "      <th>5</th>\n",
       "      <td>Brewery</td>\n",
       "      <td>Came here with my wife from Colorado for some ...</td>\n",
       "      <td>2016-02-23</td>\n",
       "      <td>4</td>\n",
       "      <td>2</td>\n",
       "      <td>5</td>\n",
       "    </tr>\n",
       "  </tbody>\n",
       "</table>\n",
       "</div>"
      ],
      "text/plain": [
       "                                        title  \\\n",
       "0                       Great drinks and food   \n",
       "1                        Good food &amp; beer   \n",
       "2                           Pretty good beers   \n",
       "3  Ridiculously overpriced (yes I live in SF)   \n",
       "4                                 Team dinner   \n",
       "5                                     Brewery   \n",
       "\n",
       "                                                text       date  stars price  \\\n",
       "0  They have great local craft beers and probably... 2016-03-28      4     2   \n",
       "1  We went to the downtown SF location. The resta... 2016-03-27      4     2   \n",
       "2  I just came to this place for drinks with an o... 2016-03-16      4     2   \n",
       "3  Mediocre food (not bad, just mediocre, you can... 2016-03-08      3     2   \n",
       "4  We headed out for our team dinner to this esta... 2016-03-01      4     2   \n",
       "5  Came here with my wife from Colorado for some ... 2016-02-23      4     2   \n",
       "\n",
       "   index  \n",
       "0      0  \n",
       "1      1  \n",
       "2      2  \n",
       "3      3  \n",
       "4      4  \n",
       "5      5  "
      ]
     },
     "execution_count": 2,
     "metadata": {},
     "output_type": "execute_result"
    }
   ],
   "source": [
    "raw_data = helpers.to_pd_arr(\"rest-reviews.json\")\n",
    "\n",
    "raw_data['index'] = raw_data.index\n",
    "raw_data['date'] = pd.to_datetime(raw_data['date'])\n",
    "raw_data.head(6)"
   ]
  },
  {
   "cell_type": "markdown",
   "metadata": {},
   "source": [
    "## Visualize Data Distribution\n",
    "This is a categorical problem, and we can see here that the data is skewed towards higher reviews, but that there are reviews in every category, from 1-5 stars."
   ]
  },
  {
   "cell_type": "code",
   "execution_count": 3,
   "metadata": {},
   "outputs": [
    {
     "data": {
      "text/plain": [
       "<matplotlib.axes._subplots.AxesSubplot at 0x13500e4e0>"
      ]
     },
     "execution_count": 3,
     "metadata": {},
     "output_type": "execute_result"
    },
    {
     "data": {
      "image/png": "[encoded data removed]",
      "text/plain": [
       "<Figure size 432x288 with 1 Axes>"
      ]
     },
     "metadata": {
      "needs_background": "light"
     },
     "output_type": "display_data"
    }
   ],
   "source": [
    "col = sns.color_palette(\"Blues\")\n",
    "sns.countplot(x=raw_data['stars'], palette = sns.cubehelix_palette(8, start=1, rot=-.75))"
   ]
  },
  {
   "cell_type": "code",
   "execution_count": 4,
   "metadata": {},
   "outputs": [],
   "source": [
    "variable_types = {'index' : vtypes.Index,\n",
    "                  'title': vtypes.Text,\n",
    "                  'text': vtypes.Text,\n",
    "                  'date': vtypes.Datetime,\n",
    "                  'price': vtypes.Categorical}"
   ]
  },
  {
   "cell_type": "markdown",
   "metadata": {},
   "source": [
    "## Step 2. Split Data\n",
    "In order to avoid label leakage, we want to split the data before performing these operations. So, we will use train test split from the sklearn module to split the data as well as keep the labels for the training and testing (the 'stars' column)."
   ]
  },
  {
   "cell_type": "code",
   "execution_count": 5,
   "metadata": {},
   "outputs": [],
   "source": [
    "y = raw_data.pop('stars')\n",
    "\n",
    "X_train, X_test, y_train, y_test = train_test_split(raw_data, y, test_size=0.15, stratify=y)"
   ]
  },
  {
   "cell_type": "markdown",
   "metadata": {},
   "source": [
    "Now, we will create two different entity sets so that we can create features on each of the sets without leakage."
   ]
  },
  {
   "cell_type": "code",
   "execution_count": 6,
   "metadata": {},
   "outputs": [],
   "source": [
    "estrain = ft.EntitySet('Reviews')\n",
    "estest = ft.EntitySet('Reviews')\n",
    "\n",
    "estrain = estrain.entity_from_dataframe(entity_id=\"reviews\",\n",
    "                              dataframe=X_train,\n",
    "                              index='index',\n",
    "                              time_index=\"date\",\n",
    "                              variable_types=variable_types)\n",
    "\n",
    "estest = estest.entity_from_dataframe(entity_id=\"reviews\",\n",
    "                              dataframe=X_test,\n",
    "                              index='index',\n",
    "                              time_index=\"date\",\n",
    "                              variable_types=variable_types)"
   ]
  },
  {
   "cell_type": "markdown",
   "metadata": {},
   "source": [
    "## Step 3. Create Custom Features\n",
    "Here, we will create custom features so that we can have some Natural Language Processing Features."
   ]
  },
  {
   "cell_type": "markdown",
   "metadata": {},
   "source": [
    "First, we will create simple features that focus more on the literal text and the punctuation more than the meaning behind the text."
   ]
  },
  {
   "cell_type": "code",
   "execution_count": 7,
   "metadata": {},
   "outputs": [],
   "source": [
    "class TitleCount(TransformPrimitive):\n",
    "    \"\"\"Computes the number of title words in a document/string\"\"\"\n",
    "    \n",
    "    name=\"title_word_count\"\n",
    "    input_types=[vtypes.Text]\n",
    "    return_type=vtypes.Numeric\n",
    "    \n",
    "    def get_function(self):\n",
    "        def title_count(array):\n",
    "            return [len(re.findall(' [A-Z]|^[A-Z]', i)) for i in array]\n",
    "        return title_count\n",
    "    \n",
    "class PunctuationCount(TransformPrimitive):\n",
    "    \"\"\"Computes the number of punctuation marks in a document/string\"\"\"\n",
    "    \n",
    "    name=\"punctuation_count\"\n",
    "    input_types=[vtypes.Text]\n",
    "    return_type=vtypes.Numeric\n",
    "    \n",
    "    def get_function(self):\n",
    "        def punctuation_count(array):\n",
    "            punct = set(string.punctuation)\n",
    "            toks = list(map(word_tokenize, array))\n",
    "            return [sum(map(lambda x: x in punct, y)) for y in toks]\n",
    "        return punctuation_count\n",
    "\n",
    "class StopWordCount(TransformPrimitive):\n",
    "    \"\"\"Computes the number of stop words in a document/string\"\"\"\n",
    "    \n",
    "    name=\"stop_word_count\"\n",
    "    input_types=[vtypes.Text]\n",
    "    return_type=vtypes.Numeric\n",
    "    \n",
    "    def get_function(self):\n",
    "        def stop_words(array):\n",
    "            swords = set(stopwords.words('english'))\n",
    "            return [sum(map(lambda x: x in swords, word_tokenize(i))) for i in array]\n",
    "        return stop_words\n",
    "    \n",
    "class CapitalCount(TransformPrimitive):\n",
    "    \"\"\"Computes the number of capital letters in a document/string\"\"\"\n",
    "    \n",
    "    name=\"capitals_count\"\n",
    "    input_types=[vtypes.Text]\n",
    "    return_type=vtypes.Numeric\n",
    "    \n",
    "    def get_function(self):\n",
    "        def capitals(array):\n",
    "            return [len(re.findall('[A-Z]', i)) for i in array]\n",
    "        return capitals\n",
    "\n",
    "class WordCount(TransformPrimitive):\n",
    "    \"\"\"Computes the number of words in a document/string\"\"\"\n",
    "    \n",
    "    name=\"word_count\"\n",
    "    input_types=[vtypes.Text]\n",
    "    return_type=vtypes.Numeric\n",
    "    \n",
    "    def get_function(self):\n",
    "        def word_count(array):\n",
    "            return [len(word_tokenize(x)) for x in array]\n",
    "        return word_count"
   ]
  },
  {
   "cell_type": "markdown",
   "metadata": {},
   "source": [
    "Now, we will create more in depth features, that try to get at the meaning of the text fields. First, we will fit a model based off of the term frequency-inverse document frequency of the training text (and title) data. We will then compose this into a SVD matrix to decrease the number of possible features."
   ]
  },
  {
   "cell_type": "code",
   "execution_count": 8,
   "metadata": {},
   "outputs": [
    {
     "data": {
      "text/plain": [
       "Pipeline(memory=None,\n",
       "         steps=[('tfidfvectorizer',\n",
       "                 TfidfVectorizer(analyzer='word', binary=False,\n",
       "                                 decode_error='strict',\n",
       "                                 dtype=<class 'numpy.float64'>,\n",
       "                                 encoding='utf-8', input='content',\n",
       "                                 lowercase=True, max_df=1.0, max_features=None,\n",
       "                                 min_df=1, ngram_range=(1, 1), norm='l2',\n",
       "                                 preprocessor=None, smooth_idf=True,\n",
       "                                 stop_words=None, strip_accents=None,\n",
       "                                 sublinear_tf=False,\n",
       "                                 token_pattern='(?u)\\\\b\\\\w\\\\w+\\\\b',\n",
       "                                 tokenizer=None, use_idf=True,\n",
       "                                 vocabulary=None)),\n",
       "                ('truncatedsvd',\n",
       "                 TruncatedSVD(algorithm='randomized', n_components=2, n_iter=5,\n",
       "                              random_state=None, tol=0.0))],\n",
       "         verbose=False)"
      ]
     },
     "execution_count": 8,
     "metadata": {},
     "output_type": "execute_result"
    }
   ],
   "source": [
    "pipeline = make_pipeline(TfidfVectorizer(), TruncatedSVD())\n",
    "\n",
    "pipeline.fit(X_train['title'].append(X_train['text'], ignore_index=True))"
   ]
  },
  {
   "cell_type": "markdown",
   "metadata": {},
   "source": [
    "Now, we will create the more complicated features, some of which rely on pre-trained models that are part of packages like nltk or sklearn."
   ]
  },
  {
   "cell_type": "code",
   "execution_count": 9,
   "metadata": {},
   "outputs": [],
   "source": [
    "class POS(TransformPrimitive):\n",
    "    \"\"\"Computes the number of each of the most common parts of speech used\n",
    "       in a document/string\"\"\"\n",
    "    \n",
    "    name=\"POS_count\"\n",
    "    input_types=[vtypes.Text]\n",
    "    return_type=vtypes.Numeric\n",
    "    number_output_features=15\n",
    "    \n",
    "    def get_function(self):\n",
    "        def pos(array):\n",
    "            li = [nltk.pos_tag(helpers.clean_tokens(x)) for x in array]\n",
    "            types = ['C', 'D', 'E', 'F', 'I', 'J',\n",
    "                     'L', 'M', 'N', 'P', 'R', 'T',\n",
    "                     'U', 'V', 'W']\n",
    "            type_arr = []\n",
    "            for row in li:\n",
    "                fd = nltk.FreqDist([b[0] for (a,b) in row])\n",
    "                type_arr.append([fd[i] for i in types])\n",
    "            return np.array(type_arr).T\n",
    "        return pos\n",
    "    \n",
    "class DiversityScore(TransformPrimitive):\n",
    "    \"\"\"Computes the diverity of words used in a document/string\"\"\"\n",
    "    \n",
    "    name=\"Diversity\"\n",
    "    input_types=[vtypes.Text]\n",
    "    return_type=vtypes.Numeric\n",
    "    \n",
    "    def get_function(self):\n",
    "        def diversity(array): \n",
    "            ret = []\n",
    "            for x in array:\n",
    "                y = helpers.clean_tokens(x)\n",
    "                if len(y) < 1:\n",
    "                    ret.append(0)\n",
    "                else:\n",
    "                    ret.append(len(set(y))/len(y))           \n",
    "            return ret\n",
    "        return diversity\n",
    "    \n",
    "class PolarityScore(TransformPrimitive):\n",
    "    \"\"\"Computes the percieved positivity(1) or negativity(-1) score of\n",
    "       a document/string\"\"\"\n",
    "    \n",
    "    name=\"Polarity\"\n",
    "    input_types=[vtypes.Text]\n",
    "    return_type=vtypes.Numeric\n",
    "    \n",
    "    def get_function(self):\n",
    "        def polarity(array):\n",
    "            vader = SentimentIntensityAnalyzer()\n",
    "            def vader_pol(sentence):\n",
    "                return (vader.polarity_scores(sentence)['pos'] - \n",
    "                       vader.polarity_scores(sentence)['neg'])\n",
    "            return [vader_pol(dtk.detokenize(helpers.clean_tokens(x))) for x in array]\n",
    "        return polarity\n",
    "\n",
    "class LSA(TransformPrimitive):\n",
    "    \"\"\"Computes the latent semantic analysis of a document/string\"\"\"\n",
    "    \n",
    "    name=\"LSA\"\n",
    "    input_types=[vtypes.Text]\n",
    "    return_type=vtypes.Numeric\n",
    "    number_output_features=2\n",
    "    \n",
    "    def get_function(self):\n",
    "        def lsa(array):\n",
    "            array = array.apply(lambda x: dtk.detokenize(helpers.clean_tokens(x)))\n",
    "            return np.array(pipeline.transform(array)).T\n",
    "        return lsa\n",
    "\n",
    "class USE(TransformPrimitive):\n",
    "    \"\"\"Computes the latent semantic analysis of a document/string\"\"\"\n",
    "    \n",
    "    name=\"USE\"\n",
    "    input_types=[vtypes.Text]\n",
    "    return_type=vtypes.Numeric\n",
    "    number_output_features=512\n",
    "    \n",
    "    def get_function(self):\n",
    "        def use(array):\n",
    "            array = array.apply(lambda x: dtk.detokenize(helpers.clean_tokens(x)))\n",
    "            with tf.Session() as session:\n",
    "                session.run([tf.global_variables_initializer(), tf.tables_initializer()])\n",
    "                message_embeddings = session.run(embed(array.tolist()))\n",
    "            return np.array(message_embeddings).T\n",
    "        return use"
   ]
  },
  {
   "cell_type": "markdown",
   "metadata": {},
   "source": [
    "## Step 4. Create Feature Matrices\n",
    "Here we choose the features we wish to include in the training (in this case all of them), and calculate the training feature matrix. We have set the chunk size to the size of the training set, because the \"USE\" or Universal Sentence Encoding Feature takes a disproporionately long time to run if calculated in chunks rather than all at once."
   ]
  },
  {
   "cell_type": "code",
   "execution_count": 10,
   "metadata": {
    "scrolled": true
   },
   "outputs": [
    {
     "name": "stdout",
     "output_type": "stream",
     "text": [
      "Built 21 features\n",
      "Elapsed: 22:19 | Remaining: 00:00 | Progress: 100%|██████████| Calculated: 1/1 chunks\n"
     ]
    }
   ],
   "source": [
    "trans = [TitleCount, \n",
    "         PunctuationCount,\n",
    "         StopWordCount,\n",
    "         CapitalCount,\n",
    "         WordCount, \n",
    "         POS,\n",
    "         DiversityScore,\n",
    "         PolarityScore,\n",
    "         LSA,\n",
    "         USE]\n",
    "\n",
    "chunk_size_train = estrain['reviews'].shape[0]\n",
    "\n",
    "train_feature_matrix, features = ft.dfs(entityset=estrain,\n",
    "                              target_entity='reviews',\n",
    "                              trans_primitives=trans,\n",
    "                              verbose=True,\n",
    "                              chunk_size=chunk_size_train)"
   ]
  },
  {
   "cell_type": "markdown",
   "metadata": {},
   "source": [
    "Now we calculate the features of the test set, using the same chunk size method to optimize runtime for the \"USE\" primitive."
   ]
  },
  {
   "cell_type": "code",
   "execution_count": 11,
   "metadata": {
    "scrolled": true
   },
   "outputs": [
    {
     "name": "stdout",
     "output_type": "stream",
     "text": [
      "Elapsed: 04:47 | Remaining: 00:00 | Progress: 100%|██████████| Calculated: 1/1 chunks\n"
     ]
    }
   ],
   "source": [
    "chunk_size_test = estest['reviews'].shape[0]\n",
    "\n",
    "test_feature_matrix = ft.calculate_feature_matrix(features=features,\n",
    "                                                  entityset=estest,\n",
    "                                                  verbose=True,\n",
    "                                                  chunk_size=chunk_size_test)"
   ]
  },
  {
   "cell_type": "markdown",
   "metadata": {},
   "source": [
    "Here we reindex the test and training feature matrix to ensure that the train and test labels match the indices of the train and test feature matrices"
   ]
  },
  {
   "cell_type": "code",
   "execution_count": 12,
   "metadata": {},
   "outputs": [],
   "source": [
    "train_feature_matrix = train_feature_matrix.reindex(y_train.index)\n",
    "test_feature_matrix = test_feature_matrix.reindex(y_test.index)"
   ]
  },
  {
   "cell_type": "markdown",
   "metadata": {},
   "source": [
    "## Step 5. Machine Learning\n",
    "Here we create and test various machine learning models from sklearn on the feature matrix."
   ]
  },
  {
   "cell_type": "code",
   "execution_count": 28,
   "metadata": {
    "scrolled": false
   },
   "outputs": [
    {
     "data": {
      "text/plain": [
       "0.636734693877551"
      ]
     },
     "execution_count": 28,
     "metadata": {},
     "output_type": "execute_result"
    }
   ],
   "source": [
    "lgr = LogisticRegression(solver='liblinear', multi_class='auto')\n",
    "lgr.fit(train_feature_matrix, y_train)\n",
    "lgr.score(test_feature_matrix, y_test)"
   ]
  },
  {
   "cell_type": "code",
   "execution_count": 14,
   "metadata": {},
   "outputs": [
    {
     "data": {
      "text/plain": [
       "0.6521541950113379"
      ]
     },
     "execution_count": 14,
     "metadata": {},
     "output_type": "execute_result"
    }
   ],
   "source": [
    "hgbc = HistGradientBoostingClassifier()\n",
    "hgbc.fit(train_feature_matrix, y_train)\n",
    "hgbc.score(test_feature_matrix, y_test)"
   ]
  },
  {
   "cell_type": "code",
   "execution_count": 15,
   "metadata": {},
   "outputs": [
    {
     "data": {
      "text/plain": [
       "0.5628117913832199"
      ]
     },
     "execution_count": 15,
     "metadata": {},
     "output_type": "execute_result"
    }
   ],
   "source": [
    "rfc = RandomForestClassifier(n_estimators=10, class_weight = \"balanced\", n_jobs=-1)\n",
    "rfc.fit(train_feature_matrix, y_train)\n",
    "rfc.score(test_feature_matrix, y_test)"
   ]
  },
  {
   "cell_type": "markdown",
   "metadata": {},
   "source": [
    "Here we can observe the feature importances for this model, and see that the Universal Sentence Encoder features and the polarity score are the most influential in this model."
   ]
  },
  {
   "cell_type": "code",
   "execution_count": 20,
   "metadata": {},
   "outputs": [
    {
     "data": {
      "text/html": [
       "<div>\n",
       "<style scoped>\n",
       "    .dataframe tbody tr th:only-of-type {\n",
       "        vertical-align: middle;\n",
       "    }\n",
       "\n",
       "    .dataframe tbody tr th {\n",
       "        vertical-align: top;\n",
       "    }\n",
       "\n",
       "    .dataframe thead th {\n",
       "        text-align: right;\n",
       "    }\n",
       "</style>\n",
       "<table border=\"1\" class=\"dataframe\">\n",
       "  <thead>\n",
       "    <tr style=\"text-align: right;\">\n",
       "      <th></th>\n",
       "      <th>0</th>\n",
       "      <th>1</th>\n",
       "    </tr>\n",
       "  </thead>\n",
       "  <tbody>\n",
       "    <tr>\n",
       "      <th>0</th>\n",
       "      <td>USE(text)__28</td>\n",
       "      <td>0.014496</td>\n",
       "    </tr>\n",
       "    <tr>\n",
       "      <th>1</th>\n",
       "      <td>POLARITY(title)</td>\n",
       "      <td>0.012911</td>\n",
       "    </tr>\n",
       "    <tr>\n",
       "      <th>2</th>\n",
       "      <td>USE(text)__289</td>\n",
       "      <td>0.012232</td>\n",
       "    </tr>\n",
       "    <tr>\n",
       "      <th>3</th>\n",
       "      <td>USE(text)__149</td>\n",
       "      <td>0.011035</td>\n",
       "    </tr>\n",
       "    <tr>\n",
       "      <th>4</th>\n",
       "      <td>USE(title)__328</td>\n",
       "      <td>0.010571</td>\n",
       "    </tr>\n",
       "    <tr>\n",
       "      <th>5</th>\n",
       "      <td>USE(text)__452</td>\n",
       "      <td>0.007943</td>\n",
       "    </tr>\n",
       "    <tr>\n",
       "      <th>6</th>\n",
       "      <td>USE(title)__289</td>\n",
       "      <td>0.007905</td>\n",
       "    </tr>\n",
       "    <tr>\n",
       "      <th>7</th>\n",
       "      <td>POLARITY(text)</td>\n",
       "      <td>0.007335</td>\n",
       "    </tr>\n",
       "    <tr>\n",
       "      <th>8</th>\n",
       "      <td>USE(title)__415</td>\n",
       "      <td>0.006484</td>\n",
       "    </tr>\n",
       "    <tr>\n",
       "      <th>9</th>\n",
       "      <td>USE(title)__28</td>\n",
       "      <td>0.006322</td>\n",
       "    </tr>\n",
       "  </tbody>\n",
       "</table>\n",
       "</div>"
      ],
      "text/plain": [
       "                 0         1\n",
       "0    USE(text)__28  0.014496\n",
       "1  POLARITY(title)  0.012911\n",
       "2   USE(text)__289  0.012232\n",
       "3   USE(text)__149  0.011035\n",
       "4  USE(title)__328  0.010571\n",
       "5   USE(text)__452  0.007943\n",
       "6  USE(title)__289  0.007905\n",
       "7   POLARITY(text)  0.007335\n",
       "8  USE(title)__415  0.006484\n",
       "9   USE(title)__28  0.006322"
      ]
     },
     "execution_count": 20,
     "metadata": {},
     "output_type": "execute_result"
    }
   ],
   "source": [
    "headers = [\"name\", \"score\"]\n",
    "values = pd.DataFrame(sorted(zip(train_feature_matrix.columns, rfc.feature_importances_), key=lambda x: x[1] * -1))\n",
    "\n",
    "values.head(10)"
   ]
  },
  {
   "cell_type": "code",
   "execution_count": 21,
   "metadata": {},
   "outputs": [
    {
     "data": {
      "text/plain": [
       "0.4766439909297052"
      ]
     },
     "execution_count": 21,
     "metadata": {},
     "output_type": "execute_result"
    }
   ],
   "source": [
    "bnb = BernoulliNB()\n",
    "bnb = bnb.fit(train_feature_matrix, y_train)\n",
    "bnb.score(test_feature_matrix, y_test)"
   ]
  },
  {
   "cell_type": "code",
   "execution_count": null,
   "metadata": {},
   "outputs": [],
   "source": [
    "vot = VotingClassifier(voting='soft', estimators=[('lgr', lgr), ('rfc', rfc), ('hgbc', hgbc)], weights=[3, 1, 6])\n",
    "vot.fit(train_feature_matrix, y_train)\n",
    "vot.score(test_feature_matrix, y_test)"
   ]
  },
  {
   "cell_type": "markdown",
   "metadata": {},
   "source": [
    "So, we can see that the highest score we can get with a model is around 65%, which seems like a pretty poor result. However, given that it is a 5 class classification problem, it is not a horrible score. Furthermore, we can look at the confusion matrix to see where the model goes wrong, and how far off the answer the model is when it is wrong"
   ]
  },
  {
   "cell_type": "code",
   "execution_count": null,
   "metadata": {},
   "outputs": [],
   "source": [
    "helpers.plot_confusion_matrix(y_test, \n",
    "                      vot.predict(test_feature_matrix), \n",
    "                      ['1', '2', '3', '4', '5'], \n",
    "                      normalize=True, \n",
    "                      title='Confusion matrix, with normalization')"
   ]
  },
  {
   "cell_type": "code",
   "execution_count": 24,
   "metadata": {},
   "outputs": [
    {
     "data": {
      "text/plain": [
       "<matplotlib.axes._subplots.AxesSubplot at 0x1404a4e80>"
      ]
     },
     "execution_count": 24,
     "metadata": {},
     "output_type": "execute_result"
    },
    {
     "data": {
      "image/png": "[encoded data removed]",
      "text/plain": [
       "<Figure size 432x288 with 1 Axes>"
      ]
     },
     "metadata": {
      "needs_background": "light"
     },
     "output_type": "display_data"
    }
   ],
   "source": [
    "sns.countplot(x=y_train, palette = sns.cubehelix_palette(8, start=1, rot=-.75))"
   ]
  },
  {
   "cell_type": "code",
   "execution_count": 25,
   "metadata": {},
   "outputs": [
    {
     "data": {
      "text/plain": [
       "<matplotlib.axes._subplots.AxesSubplot at 0x16ece7470>"
      ]
     },
     "execution_count": 25,
     "metadata": {},
     "output_type": "execute_result"
    },
    {
     "data": {
      "image/png": "[encoded data removed]",
      "text/plain": [
       "<Figure size 432x288 with 1 Axes>"
      ]
     },
     "metadata": {
      "needs_background": "light"
     },
     "output_type": "display_data"
    }
   ],
   "source": [
    "sns.countplot(x=y_test, palette = sns.cubehelix_palette(8, start=1, rot=-.75))"
   ]
  },
  {
   "cell_type": "markdown",
   "metadata": {},
   "source": [
    "So, from looking at the confusion matrix, it is clear that the model is pretty accurate, and when it predicts the star rating wrong, it is likely within one star of the correct answer, which is much better than a model that has the same accuracy but then predicts the wrong ones as a star rating very wrong on average. Furthermore, as we can see, the predictions have about the same distribution of star ratings as the training data, which suggests that this model is pretty accurate, and doesn't just predict all of the test data to be in the most frequent category."
   ]
  },
  {
   "cell_type": "markdown",
   "metadata": {},
   "source": [
    "## 6. Next Steps\n",
    "\n",
    "While this is an end-to-end example of going from raw text data to a machine learning model with Natural Language Processing Custom Primitives, it is necessary to do before this model would become something impactful. Ideally, in a problem such as this one, there would be more data available, especially pertaining to the customer who wrote each review, that would make the data structure more complicated, but also give the model more insight into patterns of each reviewer, so that it could make more accurate predictions. Luckily, Featuretools makes it easy to deal with relational datasets, and so this new extra data would not be too challenging to incorporate into this model.\n",
    "\n",
    "\n",
    "<p>\n",
    "    <img src=\"https://www.featurelabs.com/wp-content/uploads/2017/12/logo.png\" alt=\"Featuretools\" />\n",
    "</p>\n",
    "\n",
    "Featuretools was created by the developers at [Feature Labs](https://www.featurelabs.com/). If building impactful data science pipelines is important to you or your business, please [get in touch](https://www.featurelabs.com/contact/)."
   ]
  },
  {
   "cell_type": "code",
   "execution_count": null,
   "metadata": {},
   "outputs": [],
   "source": []
  }
 ],
 "metadata": {
  "kernelspec": {
   "display_name": "Python 3",
   "language": "python",
   "name": "python3"
  },
  "language_info": {
   "codemirror_mode": {
    "name": "ipython",
    "version": 3
   },
   "file_extension": ".py",
   "mimetype": "text/x-python",
   "name": "python",
   "nbconvert_exporter": "python",
   "pygments_lexer": "ipython3",
   "version": "3.6.8"
  }
 },
 "nbformat": 4,
 "nbformat_minor": 2
}
