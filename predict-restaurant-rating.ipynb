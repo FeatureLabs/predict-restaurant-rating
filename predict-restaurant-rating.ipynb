{
 "cells": [
  {
   "cell_type": "markdown",
   "metadata": {},
   "source": [
    "# Predicting the rating given to a restaurant based solely on the given review text and title using NLP custom primitives.\n",
    "\n",
    "<a style=\"margin:30px\" href=\"https://www.featuretools.com\">\n",
    "    <img width=50% src=\"https://www.featuretools.com/wp-content/uploads/2017/12/FeatureLabs-Logo-Tangerine-800.png\" alt=\"Featuretools\" />\n",
    "</a>\n",
    "\n",
    "**When customers visit restaurants, they will oftentimes leave a review of some sort. Using data from TripAdvisor, we investigate how this textual data can be used to predict the overall thoughts of the customer on that restuarant represented in a star rating.**\n",
    "\n",
    "In this tutorial, we show how [Featuretools](https://www.featuretools.com) can be used alongside the [nlp-primitives](https://pypi.org/project/nlp-primitives/) library to train an accurate machine learning model that can predict a customer's rating of a restaurant based on the text of their review and some information about the restaurant.\n",
    "\n",
    "*Note: If you are running this notebook yourself, refer to the [readme](https://github.com/FeatureLabs/predict-restaurant-rating/blob/master/README.md) on Github for instructions to download the dataset*\n",
    "\n",
    "## Highlights\n",
    "\n",
    "* We use the nlp-primitives library to create structured data from unstructured, hard to parse, textual data\n",
    "* We build a pipeline that it can be reused for numerous NLP prediction problems (You can try this yourself!)\n",
    "* We use these primitives alongside Featuretools' `dfs` method to create as much information as possible from a dataset containing only two entities."
   ]
  },
  {
   "cell_type": "code",
   "execution_count": 1,
   "metadata": {},
   "outputs": [
    {
     "name": "stdout",
     "output_type": "stream",
     "text": [
      "Featuretools version 0.9.1\n"
     ]
    }
   ],
   "source": [
    "import nltk\n",
    "import pandas as pd\n",
    "import json\n",
    "import seaborn as sns\n",
    "import matplotlib.pyplot as plt\n",
    "import nlp_primitives\n",
    "import featuretools as ft\n",
    "import featuretools.variable_types as vtypes\n",
    "import seaborn as sns\n",
    "import sklearn\n",
    "import matplotlib.pyplot as plt\n",
    "import numpy as np\n",
    "\n",
    "from featuretools.primitives import *\n",
    "from featuretools.selection import remove_low_information_features\n",
    "from nlp_primitives import (\n",
    "    DiversityScore,\n",
    "    LSA,\n",
    "    MeanCharactersPerWord,\n",
    "    PartOfSpeechCount,\n",
    "    PolarityScore, \n",
    "    PunctuationCount,\n",
    "    StopwordCount,\n",
    "    TitleWordCount,\n",
    "    UniversalSentenceEncoder,\n",
    "    UpperCaseCount)\n",
    "from sklearn.model_selection import train_test_split\n",
    "from sklearn.feature_extraction.text import CountVectorizer, TfidfVectorizer\n",
    "from sklearn.decomposition import TruncatedSVD\n",
    "from sklearn.linear_model import LogisticRegression\n",
    "from sklearn.experimental import enable_hist_gradient_boosting\n",
    "from sklearn.ensemble import HistGradientBoostingClassifier\n",
    "from sklearn.pipeline import make_pipeline\n",
    "from sklearn.ensemble import RandomForestClassifier\n",
    "from sklearn.naive_bayes import BernoulliNB\n",
    "from sklearn.ensemble import VotingClassifier\n",
    "\n",
    "print('Featuretools version {}'.format(ft.__version__))"
   ]
  },
  {
   "cell_type": "markdown",
   "metadata": {},
   "source": [
    "## Step 1. Load Data\n",
    "We start by loading in the data from our machine. This data is from a kaggle dataset, and instuctions on how to download it and can be found in the read me on github. Once it has been downloaded, run `python data_to_entityset.py` on the command line in the predict-restaurant-rating folder with the downloaded dataset in that same folder, making sure to rename that dataset as `reviews.json`. This process will create an entityset for use with this tutorial. This data includes two entity sets: The restaurants entityset, which includes the name, address, price, star-rating, and several other pieces of information about each restaurant in the data, and the reviews entityset, which includes the title of the review, date of the review, and text of the review."
   ]
  },
  {
   "cell_type": "code",
   "execution_count": 2,
   "metadata": {},
   "outputs": [
    {
     "data": {
      "text/plain": [
       "Entityset: es\n",
       "  Entities:\n",
       "    restaurants [Rows: 147, Columns: 28]\n",
       "    reviews [Rows: 14700, Columns: 6]\n",
       "  Relationships:\n",
       "    reviews.restaurant_id -> restaurants.id"
      ]
     },
     "execution_count": 2,
     "metadata": {},
     "output_type": "execute_result"
    }
   ],
   "source": [
    "es = ft.read_entityset('./predict-restaurant-rating/restaurants_entity_set')\n",
    "es"
   ]
  },
  {
   "cell_type": "markdown",
   "metadata": {},
   "source": [
    "### Visualize Data Distribution\n",
    "This is a multiclass classification problem, and we can see here that the data is skewed towards higher reviews, but that there are reviews in every category, from 1-5 stars."
   ]
  },
  {
   "cell_type": "code",
   "execution_count": 3,
   "metadata": {},
   "outputs": [
    {
     "data": {
      "text/plain": [
       "<matplotlib.axes._subplots.AxesSubplot at 0x13002a470>"
      ]
     },
     "execution_count": 3,
     "metadata": {},
     "output_type": "execute_result"
    },
    {
     "data": {
      "image/png": "[encoded data removed]",
      "text/plain": [
       "<Figure size 432x288 with 1 Axes>"
      ]
     },
     "metadata": {
      "needs_background": "light"
     },
     "output_type": "display_data"
    }
   ],
   "source": [
    "df = pd.read_pickle('./predict-restaurant-rating/visualization_df')\n",
    "\n",
    "col = sns.color_palette(\"Blues\")\n",
    "sns.countplot(x=df['review_rating'], palette = sns.cubehelix_palette(8, start=1, rot=-.75))"
   ]
  },
  {
   "cell_type": "code",
   "execution_count": 27,
   "metadata": {},
   "outputs": [
    {
     "data": {
      "text/plain": [
       "Entity: reviews\n",
       "  Variables:\n",
       "    index (dtype: index)\n",
       "    review_date (dtype: datetime)\n",
       "    review_text (dtype: text)\n",
       "    restaurant_id (dtype: id)\n",
       "    review_title (dtype: text)\n",
       "    review_rating (dtype: categorical)\n",
       "  Shape:\n",
       "    (Rows: 14700, Columns: 6)"
      ]
     },
     "execution_count": 27,
     "metadata": {},
     "output_type": "execute_result"
    }
   ],
   "source": [
    "es['reviews'].convert_variable_type('review_rating', ft.variable_types.Categorical)\n",
    "rating_df = es['reviews'].df[['index', 'review_rating']]\n",
    "es['reviews']"
   ]
  },
  {
   "cell_type": "code",
   "execution_count": 28,
   "metadata": {},
   "outputs": [],
   "source": [
    "es.add_interesting_values()"
   ]
  },
  {
   "cell_type": "markdown",
   "metadata": {},
   "source": [
    "## Step 2. Create Feature Matrix\n",
    "Here we choose the features we wish to include in the training (in this case all of them), and calculate the training feature matrix. We have set the chunk size to the size of the training set, because the \"USE\" or Universal Sentence Encoding Feature takes a disproporionately long time to run if calculated in chunks rather than all at once."
   ]
  },
  {
   "cell_type": "code",
   "execution_count": 7,
   "metadata": {
    "scrolled": true
   },
   "outputs": [
    {
     "name": "stdout",
     "output_type": "stream",
     "text": [
      "Built 336 features\n"
     ]
    }
   ],
   "source": [
    "trans = [DiversityScore,\n",
    "         LSA,\n",
    "         MeanCharactersPerWord,\n",
    "         PartOfSpeechCount,\n",
    "         PolarityScore, \n",
    "         PunctuationCount,\n",
    "         StopwordCount,\n",
    "         TitleWordCount,\n",
    "         UniversalSentenceEncoder,\n",
    "         UpperCaseCount]\n",
    "\n",
    "ignore = {'restaurants': ['rating'],\n",
    "          'reviews': ['review_rating']}\n",
    "drop_contains = ['(reviews.UNIVERSAL']\n",
    "\n",
    "features = ft.dfs(entityset=es,\n",
    "                  target_entity='reviews',\n",
    "                  trans_primitives=trans,\n",
    "                  verbose=True,\n",
    "                  features_only=True,\n",
    "                  ignore_variables=ignore,\n",
    "                  drop_contains=drop_contains,\n",
    "                  max_depth=4)"
   ]
  },
  {
   "cell_type": "markdown",
   "metadata": {},
   "source": [
    "Now we calculate the features of the test set, using the same chunk size method to optimize runtime for the \"USE\" primitive."
   ]
  },
  {
   "cell_type": "code",
   "execution_count": 8,
   "metadata": {
    "scrolled": true
   },
   "outputs": [
    {
     "name": "stdout",
     "output_type": "stream",
     "text": [
      "Elapsed: 09:14 | Progress: 100%|██████████\n"
     ]
    }
   ],
   "source": [
    "feature_matrix = ft.calculate_feature_matrix(features=features,\n",
    "                                             entityset=es,\n",
    "                                             verbose=True)"
   ]
  },
  {
   "cell_type": "code",
   "execution_count": 9,
   "metadata": {},
   "outputs": [],
   "source": [
    "feature_matrix2, features2 = remove_low_information_features(feature_matrix, features)"
   ]
  },
  {
   "cell_type": "code",
   "execution_count": 10,
   "metadata": {},
   "outputs": [
    {
     "data": {
      "text/plain": [
       "[<Feature: restaurant_id>,\n",
       " <Feature: DIVERSITY_SCORE(review_text)>,\n",
       " <Feature: DIVERSITY_SCORE(review_title)>,\n",
       " <Feature: MEAN_CHARACTERS_PER_WORD(review_text)>,\n",
       " <Feature: MEAN_CHARACTERS_PER_WORD(review_title)>,\n",
       " <Feature: POLARITY_SCORE(review_text)>,\n",
       " <Feature: POLARITY_SCORE(review_title)>,\n",
       " <Feature: PUNCTUATION_COUNT(review_text)>,\n",
       " <Feature: PUNCTUATION_COUNT(review_title)>,\n",
       " <Feature: STOPWORD_COUNT(review_text)>,\n",
       " <Feature: STOPWORD_COUNT(review_title)>,\n",
       " <Feature: TITLE_WORD_COUNT(review_text)>,\n",
       " <Feature: TITLE_WORD_COUNT(review_title)>,\n",
       " <Feature: UPPER_CASE_COUNT(review_text)>,\n",
       " <Feature: UPPER_CASE_COUNT(review_title)>,\n",
       " <Feature: restaurants.meal_cater>,\n",
       " <Feature: restaurants.meal_deliver>,\n",
       " <Feature: restaurants.options_glutenfree>,\n",
       " <Feature: restaurants.options_lowfat>,\n",
       " <Feature: restaurants.options_organic>,\n",
       " <Feature: restaurants.options_vegan>,\n",
       " <Feature: restaurants.parking_free>,\n",
       " <Feature: restaurants.parking_garage>,\n",
       " <Feature: restaurants.parking_lot>,\n",
       " <Feature: restaurants.parking_street>,\n",
       " <Feature: restaurants.parking_valet>,\n",
       " <Feature: restaurants.parking_validated>,\n",
       " <Feature: restaurants.price>,\n",
       " <Feature: restaurants.smoking>,\n",
       " <Feature: restaurants.wifi>,\n",
       " <Feature: restaurants.SUM(reviews.DIVERSITY_SCORE(review_text))>,\n",
       " <Feature: restaurants.SUM(reviews.DIVERSITY_SCORE(review_title))>,\n",
       " <Feature: restaurants.SUM(reviews.MEAN_CHARACTERS_PER_WORD(review_text))>,\n",
       " <Feature: restaurants.SUM(reviews.MEAN_CHARACTERS_PER_WORD(review_title))>,\n",
       " <Feature: restaurants.SUM(reviews.POLARITY_SCORE(review_text))>,\n",
       " <Feature: restaurants.SUM(reviews.POLARITY_SCORE(review_title))>,\n",
       " <Feature: restaurants.SUM(reviews.PUNCTUATION_COUNT(review_text))>,\n",
       " <Feature: restaurants.SUM(reviews.PUNCTUATION_COUNT(review_title))>,\n",
       " <Feature: restaurants.SUM(reviews.STOPWORD_COUNT(review_text))>,\n",
       " <Feature: restaurants.SUM(reviews.STOPWORD_COUNT(review_title))>,\n",
       " <Feature: restaurants.SUM(reviews.TITLE_WORD_COUNT(review_text))>,\n",
       " <Feature: restaurants.SUM(reviews.TITLE_WORD_COUNT(review_title))>,\n",
       " <Feature: restaurants.SUM(reviews.UPPER_CASE_COUNT(review_text))>,\n",
       " <Feature: restaurants.SUM(reviews.UPPER_CASE_COUNT(review_title))>,\n",
       " <Feature: restaurants.STD(reviews.DIVERSITY_SCORE(review_text))>,\n",
       " <Feature: restaurants.STD(reviews.DIVERSITY_SCORE(review_title))>,\n",
       " <Feature: restaurants.STD(reviews.MEAN_CHARACTERS_PER_WORD(review_text))>,\n",
       " <Feature: restaurants.STD(reviews.MEAN_CHARACTERS_PER_WORD(review_title))>,\n",
       " <Feature: restaurants.STD(reviews.POLARITY_SCORE(review_text))>,\n",
       " <Feature: restaurants.STD(reviews.POLARITY_SCORE(review_title))>,\n",
       " <Feature: restaurants.STD(reviews.PUNCTUATION_COUNT(review_text))>,\n",
       " <Feature: restaurants.STD(reviews.PUNCTUATION_COUNT(review_title))>,\n",
       " <Feature: restaurants.STD(reviews.STOPWORD_COUNT(review_text))>,\n",
       " <Feature: restaurants.STD(reviews.STOPWORD_COUNT(review_title))>,\n",
       " <Feature: restaurants.STD(reviews.TITLE_WORD_COUNT(review_text))>,\n",
       " <Feature: restaurants.STD(reviews.TITLE_WORD_COUNT(review_title))>,\n",
       " <Feature: restaurants.STD(reviews.UPPER_CASE_COUNT(review_text))>,\n",
       " <Feature: restaurants.STD(reviews.UPPER_CASE_COUNT(review_title))>,\n",
       " <Feature: restaurants.MAX(reviews.MEAN_CHARACTERS_PER_WORD(review_text))>,\n",
       " <Feature: restaurants.MAX(reviews.MEAN_CHARACTERS_PER_WORD(review_title))>,\n",
       " <Feature: restaurants.MAX(reviews.POLARITY_SCORE(review_text))>,\n",
       " <Feature: restaurants.MAX(reviews.POLARITY_SCORE(review_title))>,\n",
       " <Feature: restaurants.MAX(reviews.PUNCTUATION_COUNT(review_text))>,\n",
       " <Feature: restaurants.MAX(reviews.PUNCTUATION_COUNT(review_title))>,\n",
       " <Feature: restaurants.MAX(reviews.STOPWORD_COUNT(review_text))>,\n",
       " <Feature: restaurants.MAX(reviews.STOPWORD_COUNT(review_title))>,\n",
       " <Feature: restaurants.MAX(reviews.TITLE_WORD_COUNT(review_text))>,\n",
       " <Feature: restaurants.MAX(reviews.TITLE_WORD_COUNT(review_title))>,\n",
       " <Feature: restaurants.MAX(reviews.UPPER_CASE_COUNT(review_text))>,\n",
       " <Feature: restaurants.MAX(reviews.UPPER_CASE_COUNT(review_title))>,\n",
       " <Feature: restaurants.SKEW(reviews.DIVERSITY_SCORE(review_text))>,\n",
       " <Feature: restaurants.SKEW(reviews.DIVERSITY_SCORE(review_title))>,\n",
       " <Feature: restaurants.SKEW(reviews.MEAN_CHARACTERS_PER_WORD(review_text))>,\n",
       " <Feature: restaurants.SKEW(reviews.MEAN_CHARACTERS_PER_WORD(review_title))>,\n",
       " <Feature: restaurants.SKEW(reviews.POLARITY_SCORE(review_text))>,\n",
       " <Feature: restaurants.SKEW(reviews.POLARITY_SCORE(review_title))>,\n",
       " <Feature: restaurants.SKEW(reviews.PUNCTUATION_COUNT(review_text))>,\n",
       " <Feature: restaurants.SKEW(reviews.PUNCTUATION_COUNT(review_title))>,\n",
       " <Feature: restaurants.SKEW(reviews.STOPWORD_COUNT(review_text))>,\n",
       " <Feature: restaurants.SKEW(reviews.STOPWORD_COUNT(review_title))>,\n",
       " <Feature: restaurants.SKEW(reviews.TITLE_WORD_COUNT(review_text))>,\n",
       " <Feature: restaurants.SKEW(reviews.TITLE_WORD_COUNT(review_title))>,\n",
       " <Feature: restaurants.SKEW(reviews.UPPER_CASE_COUNT(review_text))>,\n",
       " <Feature: restaurants.SKEW(reviews.UPPER_CASE_COUNT(review_title))>,\n",
       " <Feature: restaurants.MIN(reviews.DIVERSITY_SCORE(review_text))>,\n",
       " <Feature: restaurants.MIN(reviews.DIVERSITY_SCORE(review_title))>,\n",
       " <Feature: restaurants.MIN(reviews.MEAN_CHARACTERS_PER_WORD(review_text))>,\n",
       " <Feature: restaurants.MIN(reviews.MEAN_CHARACTERS_PER_WORD(review_title))>,\n",
       " <Feature: restaurants.MIN(reviews.POLARITY_SCORE(review_text))>,\n",
       " <Feature: restaurants.MIN(reviews.POLARITY_SCORE(review_title))>,\n",
       " <Feature: restaurants.MIN(reviews.PUNCTUATION_COUNT(review_text))>,\n",
       " <Feature: restaurants.MIN(reviews.STOPWORD_COUNT(review_text))>,\n",
       " <Feature: restaurants.MIN(reviews.TITLE_WORD_COUNT(review_text))>,\n",
       " <Feature: restaurants.MIN(reviews.TITLE_WORD_COUNT(review_title))>,\n",
       " <Feature: restaurants.MIN(reviews.UPPER_CASE_COUNT(review_text))>,\n",
       " <Feature: restaurants.MIN(reviews.UPPER_CASE_COUNT(review_title))>,\n",
       " <Feature: restaurants.MEAN(reviews.DIVERSITY_SCORE(review_text))>,\n",
       " <Feature: restaurants.MEAN(reviews.DIVERSITY_SCORE(review_title))>,\n",
       " <Feature: restaurants.MEAN(reviews.MEAN_CHARACTERS_PER_WORD(review_text))>,\n",
       " <Feature: restaurants.MEAN(reviews.MEAN_CHARACTERS_PER_WORD(review_title))>,\n",
       " <Feature: restaurants.MEAN(reviews.POLARITY_SCORE(review_text))>,\n",
       " <Feature: restaurants.MEAN(reviews.POLARITY_SCORE(review_title))>,\n",
       " <Feature: restaurants.MEAN(reviews.PUNCTUATION_COUNT(review_text))>,\n",
       " <Feature: restaurants.MEAN(reviews.PUNCTUATION_COUNT(review_title))>,\n",
       " <Feature: restaurants.MEAN(reviews.STOPWORD_COUNT(review_text))>,\n",
       " <Feature: restaurants.MEAN(reviews.STOPWORD_COUNT(review_title))>,\n",
       " <Feature: restaurants.MEAN(reviews.TITLE_WORD_COUNT(review_text))>,\n",
       " <Feature: restaurants.MEAN(reviews.TITLE_WORD_COUNT(review_title))>,\n",
       " <Feature: restaurants.MEAN(reviews.UPPER_CASE_COUNT(review_text))>,\n",
       " <Feature: restaurants.MEAN(reviews.UPPER_CASE_COUNT(review_title))>,\n",
       " <Feature: restaurants.SUM(reviews.LSA(review_text)[0])>,\n",
       " <Feature: restaurants.SUM(reviews.LSA(review_text)[1])>,\n",
       " <Feature: restaurants.SUM(reviews.LSA(review_title)[0])>,\n",
       " <Feature: restaurants.SUM(reviews.LSA(review_title)[1])>,\n",
       " <Feature: restaurants.SUM(reviews.PART_OF_SPEECH_COUNT(review_text)[0])>,\n",
       " <Feature: restaurants.SUM(reviews.PART_OF_SPEECH_COUNT(review_text)[1])>,\n",
       " <Feature: restaurants.SUM(reviews.PART_OF_SPEECH_COUNT(review_text)[2])>,\n",
       " <Feature: restaurants.SUM(reviews.PART_OF_SPEECH_COUNT(review_text)[3])>,\n",
       " <Feature: restaurants.SUM(reviews.PART_OF_SPEECH_COUNT(review_text)[4])>,\n",
       " <Feature: restaurants.SUM(reviews.PART_OF_SPEECH_COUNT(review_text)[5])>,\n",
       " <Feature: restaurants.SUM(reviews.PART_OF_SPEECH_COUNT(review_text)[7])>,\n",
       " <Feature: restaurants.SUM(reviews.PART_OF_SPEECH_COUNT(review_text)[8])>,\n",
       " <Feature: restaurants.SUM(reviews.PART_OF_SPEECH_COUNT(review_text)[9])>,\n",
       " <Feature: restaurants.SUM(reviews.PART_OF_SPEECH_COUNT(review_text)[10])>,\n",
       " <Feature: restaurants.SUM(reviews.PART_OF_SPEECH_COUNT(review_text)[11])>,\n",
       " <Feature: restaurants.SUM(reviews.PART_OF_SPEECH_COUNT(review_text)[12])>,\n",
       " <Feature: restaurants.SUM(reviews.PART_OF_SPEECH_COUNT(review_text)[13])>,\n",
       " <Feature: restaurants.SUM(reviews.PART_OF_SPEECH_COUNT(review_text)[14])>,\n",
       " <Feature: restaurants.SUM(reviews.PART_OF_SPEECH_COUNT(review_title)[0])>,\n",
       " <Feature: restaurants.SUM(reviews.PART_OF_SPEECH_COUNT(review_title)[1])>,\n",
       " <Feature: restaurants.SUM(reviews.PART_OF_SPEECH_COUNT(review_title)[2])>,\n",
       " <Feature: restaurants.SUM(reviews.PART_OF_SPEECH_COUNT(review_title)[3])>,\n",
       " <Feature: restaurants.SUM(reviews.PART_OF_SPEECH_COUNT(review_title)[4])>,\n",
       " <Feature: restaurants.SUM(reviews.PART_OF_SPEECH_COUNT(review_title)[5])>,\n",
       " <Feature: restaurants.SUM(reviews.PART_OF_SPEECH_COUNT(review_title)[7])>,\n",
       " <Feature: restaurants.SUM(reviews.PART_OF_SPEECH_COUNT(review_title)[8])>,\n",
       " <Feature: restaurants.SUM(reviews.PART_OF_SPEECH_COUNT(review_title)[9])>,\n",
       " <Feature: restaurants.SUM(reviews.PART_OF_SPEECH_COUNT(review_title)[10])>,\n",
       " <Feature: restaurants.SUM(reviews.PART_OF_SPEECH_COUNT(review_title)[11])>,\n",
       " <Feature: restaurants.SUM(reviews.PART_OF_SPEECH_COUNT(review_title)[12])>,\n",
       " <Feature: restaurants.SUM(reviews.PART_OF_SPEECH_COUNT(review_title)[13])>,\n",
       " <Feature: restaurants.SUM(reviews.PART_OF_SPEECH_COUNT(review_title)[14])>,\n",
       " <Feature: restaurants.STD(reviews.LSA(review_text)[0])>,\n",
       " <Feature: restaurants.STD(reviews.LSA(review_text)[1])>,\n",
       " <Feature: restaurants.STD(reviews.LSA(review_title)[0])>,\n",
       " <Feature: restaurants.STD(reviews.LSA(review_title)[1])>,\n",
       " <Feature: restaurants.STD(reviews.PART_OF_SPEECH_COUNT(review_text)[0])>,\n",
       " <Feature: restaurants.STD(reviews.PART_OF_SPEECH_COUNT(review_text)[1])>,\n",
       " <Feature: restaurants.STD(reviews.PART_OF_SPEECH_COUNT(review_text)[2])>,\n",
       " <Feature: restaurants.STD(reviews.PART_OF_SPEECH_COUNT(review_text)[3])>,\n",
       " <Feature: restaurants.STD(reviews.PART_OF_SPEECH_COUNT(review_text)[4])>,\n",
       " <Feature: restaurants.STD(reviews.PART_OF_SPEECH_COUNT(review_text)[5])>,\n",
       " <Feature: restaurants.STD(reviews.PART_OF_SPEECH_COUNT(review_text)[7])>,\n",
       " <Feature: restaurants.STD(reviews.PART_OF_SPEECH_COUNT(review_text)[8])>,\n",
       " <Feature: restaurants.STD(reviews.PART_OF_SPEECH_COUNT(review_text)[9])>,\n",
       " <Feature: restaurants.STD(reviews.PART_OF_SPEECH_COUNT(review_text)[10])>,\n",
       " <Feature: restaurants.STD(reviews.PART_OF_SPEECH_COUNT(review_text)[11])>,\n",
       " <Feature: restaurants.STD(reviews.PART_OF_SPEECH_COUNT(review_text)[12])>,\n",
       " <Feature: restaurants.STD(reviews.PART_OF_SPEECH_COUNT(review_text)[13])>,\n",
       " <Feature: restaurants.STD(reviews.PART_OF_SPEECH_COUNT(review_text)[14])>,\n",
       " <Feature: restaurants.STD(reviews.PART_OF_SPEECH_COUNT(review_title)[0])>,\n",
       " <Feature: restaurants.STD(reviews.PART_OF_SPEECH_COUNT(review_title)[1])>,\n",
       " <Feature: restaurants.STD(reviews.PART_OF_SPEECH_COUNT(review_title)[2])>,\n",
       " <Feature: restaurants.STD(reviews.PART_OF_SPEECH_COUNT(review_title)[3])>,\n",
       " <Feature: restaurants.STD(reviews.PART_OF_SPEECH_COUNT(review_title)[4])>,\n",
       " <Feature: restaurants.STD(reviews.PART_OF_SPEECH_COUNT(review_title)[5])>,\n",
       " <Feature: restaurants.STD(reviews.PART_OF_SPEECH_COUNT(review_title)[7])>,\n",
       " <Feature: restaurants.STD(reviews.PART_OF_SPEECH_COUNT(review_title)[8])>,\n",
       " <Feature: restaurants.STD(reviews.PART_OF_SPEECH_COUNT(review_title)[9])>,\n",
       " <Feature: restaurants.STD(reviews.PART_OF_SPEECH_COUNT(review_title)[10])>,\n",
       " <Feature: restaurants.STD(reviews.PART_OF_SPEECH_COUNT(review_title)[11])>,\n",
       " <Feature: restaurants.STD(reviews.PART_OF_SPEECH_COUNT(review_title)[12])>,\n",
       " <Feature: restaurants.STD(reviews.PART_OF_SPEECH_COUNT(review_title)[13])>,\n",
       " <Feature: restaurants.STD(reviews.PART_OF_SPEECH_COUNT(review_title)[14])>,\n",
       " <Feature: restaurants.MAX(reviews.LSA(review_text)[0])>,\n",
       " <Feature: restaurants.MAX(reviews.LSA(review_text)[1])>,\n",
       " <Feature: restaurants.MAX(reviews.LSA(review_title)[0])>,\n",
       " <Feature: restaurants.MAX(reviews.LSA(review_title)[1])>,\n",
       " <Feature: restaurants.MAX(reviews.PART_OF_SPEECH_COUNT(review_text)[0])>,\n",
       " <Feature: restaurants.MAX(reviews.PART_OF_SPEECH_COUNT(review_text)[1])>,\n",
       " <Feature: restaurants.MAX(reviews.PART_OF_SPEECH_COUNT(review_text)[2])>,\n",
       " <Feature: restaurants.MAX(reviews.PART_OF_SPEECH_COUNT(review_text)[3])>,\n",
       " <Feature: restaurants.MAX(reviews.PART_OF_SPEECH_COUNT(review_text)[4])>,\n",
       " <Feature: restaurants.MAX(reviews.PART_OF_SPEECH_COUNT(review_text)[5])>,\n",
       " <Feature: restaurants.MAX(reviews.PART_OF_SPEECH_COUNT(review_text)[7])>,\n",
       " <Feature: restaurants.MAX(reviews.PART_OF_SPEECH_COUNT(review_text)[8])>,\n",
       " <Feature: restaurants.MAX(reviews.PART_OF_SPEECH_COUNT(review_text)[9])>,\n",
       " <Feature: restaurants.MAX(reviews.PART_OF_SPEECH_COUNT(review_text)[10])>,\n",
       " <Feature: restaurants.MAX(reviews.PART_OF_SPEECH_COUNT(review_text)[11])>,\n",
       " <Feature: restaurants.MAX(reviews.PART_OF_SPEECH_COUNT(review_text)[12])>,\n",
       " <Feature: restaurants.MAX(reviews.PART_OF_SPEECH_COUNT(review_text)[13])>,\n",
       " <Feature: restaurants.MAX(reviews.PART_OF_SPEECH_COUNT(review_text)[14])>,\n",
       " <Feature: restaurants.MAX(reviews.PART_OF_SPEECH_COUNT(review_title)[0])>,\n",
       " <Feature: restaurants.MAX(reviews.PART_OF_SPEECH_COUNT(review_title)[1])>,\n",
       " <Feature: restaurants.MAX(reviews.PART_OF_SPEECH_COUNT(review_title)[2])>,\n",
       " <Feature: restaurants.MAX(reviews.PART_OF_SPEECH_COUNT(review_title)[3])>,\n",
       " <Feature: restaurants.MAX(reviews.PART_OF_SPEECH_COUNT(review_title)[4])>,\n",
       " <Feature: restaurants.MAX(reviews.PART_OF_SPEECH_COUNT(review_title)[5])>,\n",
       " <Feature: restaurants.MAX(reviews.PART_OF_SPEECH_COUNT(review_title)[7])>,\n",
       " <Feature: restaurants.MAX(reviews.PART_OF_SPEECH_COUNT(review_title)[8])>,\n",
       " <Feature: restaurants.MAX(reviews.PART_OF_SPEECH_COUNT(review_title)[9])>,\n",
       " <Feature: restaurants.MAX(reviews.PART_OF_SPEECH_COUNT(review_title)[10])>,\n",
       " <Feature: restaurants.MAX(reviews.PART_OF_SPEECH_COUNT(review_title)[11])>,\n",
       " <Feature: restaurants.MAX(reviews.PART_OF_SPEECH_COUNT(review_title)[12])>,\n",
       " <Feature: restaurants.MAX(reviews.PART_OF_SPEECH_COUNT(review_title)[13])>,\n",
       " <Feature: restaurants.MAX(reviews.PART_OF_SPEECH_COUNT(review_title)[14])>,\n",
       " <Feature: restaurants.SKEW(reviews.LSA(review_text)[0])>,\n",
       " <Feature: restaurants.SKEW(reviews.LSA(review_text)[1])>,\n",
       " <Feature: restaurants.SKEW(reviews.LSA(review_title)[0])>,\n",
       " <Feature: restaurants.SKEW(reviews.LSA(review_title)[1])>,\n",
       " <Feature: restaurants.SKEW(reviews.PART_OF_SPEECH_COUNT(review_text)[0])>,\n",
       " <Feature: restaurants.SKEW(reviews.PART_OF_SPEECH_COUNT(review_text)[1])>,\n",
       " <Feature: restaurants.SKEW(reviews.PART_OF_SPEECH_COUNT(review_text)[2])>,\n",
       " <Feature: restaurants.SKEW(reviews.PART_OF_SPEECH_COUNT(review_text)[3])>,\n",
       " <Feature: restaurants.SKEW(reviews.PART_OF_SPEECH_COUNT(review_text)[4])>,\n",
       " <Feature: restaurants.SKEW(reviews.PART_OF_SPEECH_COUNT(review_text)[5])>,\n",
       " <Feature: restaurants.SKEW(reviews.PART_OF_SPEECH_COUNT(review_text)[7])>,\n",
       " <Feature: restaurants.SKEW(reviews.PART_OF_SPEECH_COUNT(review_text)[8])>,\n",
       " <Feature: restaurants.SKEW(reviews.PART_OF_SPEECH_COUNT(review_text)[9])>,\n",
       " <Feature: restaurants.SKEW(reviews.PART_OF_SPEECH_COUNT(review_text)[10])>,\n",
       " <Feature: restaurants.SKEW(reviews.PART_OF_SPEECH_COUNT(review_text)[11])>,\n",
       " <Feature: restaurants.SKEW(reviews.PART_OF_SPEECH_COUNT(review_text)[12])>,\n",
       " <Feature: restaurants.SKEW(reviews.PART_OF_SPEECH_COUNT(review_text)[13])>,\n",
       " <Feature: restaurants.SKEW(reviews.PART_OF_SPEECH_COUNT(review_text)[14])>,\n",
       " <Feature: restaurants.SKEW(reviews.PART_OF_SPEECH_COUNT(review_title)[0])>,\n",
       " <Feature: restaurants.SKEW(reviews.PART_OF_SPEECH_COUNT(review_title)[1])>,\n",
       " <Feature: restaurants.SKEW(reviews.PART_OF_SPEECH_COUNT(review_title)[2])>,\n",
       " <Feature: restaurants.SKEW(reviews.PART_OF_SPEECH_COUNT(review_title)[3])>,\n",
       " <Feature: restaurants.SKEW(reviews.PART_OF_SPEECH_COUNT(review_title)[4])>,\n",
       " <Feature: restaurants.SKEW(reviews.PART_OF_SPEECH_COUNT(review_title)[5])>,\n",
       " <Feature: restaurants.SKEW(reviews.PART_OF_SPEECH_COUNT(review_title)[7])>,\n",
       " <Feature: restaurants.SKEW(reviews.PART_OF_SPEECH_COUNT(review_title)[8])>,\n",
       " <Feature: restaurants.SKEW(reviews.PART_OF_SPEECH_COUNT(review_title)[9])>,\n",
       " <Feature: restaurants.SKEW(reviews.PART_OF_SPEECH_COUNT(review_title)[10])>,\n",
       " <Feature: restaurants.SKEW(reviews.PART_OF_SPEECH_COUNT(review_title)[11])>,\n",
       " <Feature: restaurants.SKEW(reviews.PART_OF_SPEECH_COUNT(review_title)[12])>,\n",
       " <Feature: restaurants.SKEW(reviews.PART_OF_SPEECH_COUNT(review_title)[13])>,\n",
       " <Feature: restaurants.SKEW(reviews.PART_OF_SPEECH_COUNT(review_title)[14])>,\n",
       " <Feature: restaurants.MIN(reviews.LSA(review_text)[0])>,\n",
       " <Feature: restaurants.MIN(reviews.LSA(review_text)[1])>,\n",
       " <Feature: restaurants.MIN(reviews.LSA(review_title)[0])>,\n",
       " <Feature: restaurants.MIN(reviews.LSA(review_title)[1])>,\n",
       " <Feature: restaurants.MIN(reviews.PART_OF_SPEECH_COUNT(review_text)[5])>,\n",
       " <Feature: restaurants.MIN(reviews.PART_OF_SPEECH_COUNT(review_text)[8])>,\n",
       " <Feature: restaurants.MIN(reviews.PART_OF_SPEECH_COUNT(review_text)[13])>,\n",
       " <Feature: restaurants.MEAN(reviews.LSA(review_text)[0])>,\n",
       " <Feature: restaurants.MEAN(reviews.LSA(review_text)[1])>,\n",
       " <Feature: restaurants.MEAN(reviews.LSA(review_title)[0])>,\n",
       " <Feature: restaurants.MEAN(reviews.LSA(review_title)[1])>,\n",
       " <Feature: restaurants.MEAN(reviews.PART_OF_SPEECH_COUNT(review_text)[0])>,\n",
       " <Feature: restaurants.MEAN(reviews.PART_OF_SPEECH_COUNT(review_text)[1])>,\n",
       " <Feature: restaurants.MEAN(reviews.PART_OF_SPEECH_COUNT(review_text)[2])>,\n",
       " <Feature: restaurants.MEAN(reviews.PART_OF_SPEECH_COUNT(review_text)[3])>,\n",
       " <Feature: restaurants.MEAN(reviews.PART_OF_SPEECH_COUNT(review_text)[4])>,\n",
       " <Feature: restaurants.MEAN(reviews.PART_OF_SPEECH_COUNT(review_text)[5])>,\n",
       " <Feature: restaurants.MEAN(reviews.PART_OF_SPEECH_COUNT(review_text)[7])>,\n",
       " <Feature: restaurants.MEAN(reviews.PART_OF_SPEECH_COUNT(review_text)[8])>,\n",
       " <Feature: restaurants.MEAN(reviews.PART_OF_SPEECH_COUNT(review_text)[9])>,\n",
       " <Feature: restaurants.MEAN(reviews.PART_OF_SPEECH_COUNT(review_text)[10])>,\n",
       " <Feature: restaurants.MEAN(reviews.PART_OF_SPEECH_COUNT(review_text)[11])>,\n",
       " <Feature: restaurants.MEAN(reviews.PART_OF_SPEECH_COUNT(review_text)[12])>,\n",
       " <Feature: restaurants.MEAN(reviews.PART_OF_SPEECH_COUNT(review_text)[13])>,\n",
       " <Feature: restaurants.MEAN(reviews.PART_OF_SPEECH_COUNT(review_text)[14])>,\n",
       " <Feature: restaurants.MEAN(reviews.PART_OF_SPEECH_COUNT(review_title)[0])>,\n",
       " <Feature: restaurants.MEAN(reviews.PART_OF_SPEECH_COUNT(review_title)[1])>,\n",
       " <Feature: restaurants.MEAN(reviews.PART_OF_SPEECH_COUNT(review_title)[2])>,\n",
       " <Feature: restaurants.MEAN(reviews.PART_OF_SPEECH_COUNT(review_title)[3])>,\n",
       " <Feature: restaurants.MEAN(reviews.PART_OF_SPEECH_COUNT(review_title)[4])>,\n",
       " <Feature: restaurants.MEAN(reviews.PART_OF_SPEECH_COUNT(review_title)[5])>,\n",
       " <Feature: restaurants.MEAN(reviews.PART_OF_SPEECH_COUNT(review_title)[7])>,\n",
       " <Feature: restaurants.MEAN(reviews.PART_OF_SPEECH_COUNT(review_title)[8])>,\n",
       " <Feature: restaurants.MEAN(reviews.PART_OF_SPEECH_COUNT(review_title)[9])>,\n",
       " <Feature: restaurants.MEAN(reviews.PART_OF_SPEECH_COUNT(review_title)[10])>,\n",
       " <Feature: restaurants.MEAN(reviews.PART_OF_SPEECH_COUNT(review_title)[11])>,\n",
       " <Feature: restaurants.MEAN(reviews.PART_OF_SPEECH_COUNT(review_title)[12])>,\n",
       " <Feature: restaurants.MEAN(reviews.PART_OF_SPEECH_COUNT(review_title)[13])>,\n",
       " <Feature: restaurants.MEAN(reviews.PART_OF_SPEECH_COUNT(review_title)[14])>]"
      ]
     },
     "execution_count": 10,
     "metadata": {},
     "output_type": "execute_result"
    }
   ],
   "source": [
    "features2"
   ]
  },
  {
   "cell_type": "markdown",
   "metadata": {},
   "source": [
    "## Step 3. Dividing the data\n",
    "We must do two things in this step: split the data into a training set and a testing set, and separate the labels from the feature matrix. We will use the train_test_split functionality of sklearn to do this."
   ]
  },
  {
   "cell_type": "code",
   "execution_count": 11,
   "metadata": {},
   "outputs": [],
   "source": [
    "feature_matrix2 = feature_matrix2.reindex(rating_df.index)"
   ]
  },
  {
   "cell_type": "code",
   "execution_count": 12,
   "metadata": {},
   "outputs": [],
   "source": [
    "y = rating_df.pop('review_rating')\n",
    "\n",
    "train_feature_matrix, test_feature_matrix, y_train, y_test = train_test_split(feature_matrix2, y, test_size=0.15, stratify=y)"
   ]
  },
  {
   "cell_type": "markdown",
   "metadata": {},
   "source": [
    "## Step 4. Machine Learning\n",
    "Here we create and test various machine learning models from sklearn using the feature matrix."
   ]
  },
  {
   "cell_type": "code",
   "execution_count": 13,
   "metadata": {
    "scrolled": false
   },
   "outputs": [
    {
     "name": "stderr",
     "output_type": "stream",
     "text": [
      "/Users/featurelabs/.pyenv/versions/3.6.8/lib/python3.6/site-packages/sklearn/svm/base.py:929: ConvergenceWarning: Liblinear failed to converge, increase the number of iterations.\n",
      "  \"the number of iterations.\", ConvergenceWarning)\n"
     ]
    },
    {
     "data": {
      "text/plain": [
       "0.6331065759637188"
      ]
     },
     "execution_count": 13,
     "metadata": {},
     "output_type": "execute_result"
    }
   ],
   "source": [
    "lgr = LogisticRegression(solver='liblinear', multi_class='auto')\n",
    "lgr.fit(train_feature_matrix, y_train)\n",
    "lgr.score(test_feature_matrix, y_test)"
   ]
  },
  {
   "cell_type": "code",
   "execution_count": 14,
   "metadata": {},
   "outputs": [
    {
     "data": {
      "text/plain": [
       "0.6979591836734694"
      ]
     },
     "execution_count": 14,
     "metadata": {},
     "output_type": "execute_result"
    }
   ],
   "source": [
    "hgbc = HistGradientBoostingClassifier()\n",
    "hgbc.fit(train_feature_matrix, y_train)\n",
    "hgbc.score(test_feature_matrix, y_test)"
   ]
  },
  {
   "cell_type": "code",
   "execution_count": 15,
   "metadata": {},
   "outputs": [
    {
     "data": {
      "text/plain": [
       "0.6476190476190476"
      ]
     },
     "execution_count": 15,
     "metadata": {},
     "output_type": "execute_result"
    }
   ],
   "source": [
    "rfc = RandomForestClassifier(n_estimators=100, class_weight = \"balanced\", n_jobs=-1)\n",
    "rfc.fit(train_feature_matrix, y_train)\n",
    "rfc.score(test_feature_matrix, y_test)"
   ]
  },
  {
   "cell_type": "markdown",
   "metadata": {},
   "source": [
    "Here we can observe the feature importances for this model, and see that the Universal Sentence Encoder features and the polarity score are the most influential in this model."
   ]
  },
  {
   "cell_type": "code",
   "execution_count": 16,
   "metadata": {},
   "outputs": [
    {
     "data": {
      "text/html": [
       "<div>\n",
       "<style scoped>\n",
       "    .dataframe tbody tr th:only-of-type {\n",
       "        vertical-align: middle;\n",
       "    }\n",
       "\n",
       "    .dataframe tbody tr th {\n",
       "        vertical-align: top;\n",
       "    }\n",
       "\n",
       "    .dataframe thead th {\n",
       "        text-align: right;\n",
       "    }\n",
       "</style>\n",
       "<table border=\"1\" class=\"dataframe\">\n",
       "  <thead>\n",
       "    <tr style=\"text-align: right;\">\n",
       "      <th></th>\n",
       "      <th>0</th>\n",
       "      <th>1</th>\n",
       "    </tr>\n",
       "  </thead>\n",
       "  <tbody>\n",
       "    <tr>\n",
       "      <th>0</th>\n",
       "      <td>UNIVERSAL_SENTENCE_ENCODER(review_text)[415]</td>\n",
       "      <td>0.013251</td>\n",
       "    </tr>\n",
       "    <tr>\n",
       "      <th>1</th>\n",
       "      <td>POLARITY_SCORE(review_text)</td>\n",
       "      <td>0.011062</td>\n",
       "    </tr>\n",
       "    <tr>\n",
       "      <th>2</th>\n",
       "      <td>UNIVERSAL_SENTENCE_ENCODER(review_title)[415]</td>\n",
       "      <td>0.010440</td>\n",
       "    </tr>\n",
       "    <tr>\n",
       "      <th>3</th>\n",
       "      <td>UNIVERSAL_SENTENCE_ENCODER(review_text)[28]</td>\n",
       "      <td>0.008792</td>\n",
       "    </tr>\n",
       "    <tr>\n",
       "      <th>4</th>\n",
       "      <td>UNIVERSAL_SENTENCE_ENCODER(review_text)[259]</td>\n",
       "      <td>0.008632</td>\n",
       "    </tr>\n",
       "    <tr>\n",
       "      <th>5</th>\n",
       "      <td>UNIVERSAL_SENTENCE_ENCODER(review_text)[348]</td>\n",
       "      <td>0.008482</td>\n",
       "    </tr>\n",
       "    <tr>\n",
       "      <th>6</th>\n",
       "      <td>POLARITY_SCORE(review_title)</td>\n",
       "      <td>0.008099</td>\n",
       "    </tr>\n",
       "    <tr>\n",
       "      <th>7</th>\n",
       "      <td>UNIVERSAL_SENTENCE_ENCODER(review_title)[289]</td>\n",
       "      <td>0.007232</td>\n",
       "    </tr>\n",
       "    <tr>\n",
       "      <th>8</th>\n",
       "      <td>UNIVERSAL_SENTENCE_ENCODER(review_title)[28]</td>\n",
       "      <td>0.007077</td>\n",
       "    </tr>\n",
       "    <tr>\n",
       "      <th>9</th>\n",
       "      <td>UNIVERSAL_SENTENCE_ENCODER(review_text)[375]</td>\n",
       "      <td>0.006498</td>\n",
       "    </tr>\n",
       "  </tbody>\n",
       "</table>\n",
       "</div>"
      ],
      "text/plain": [
       "                                               0         1\n",
       "0   UNIVERSAL_SENTENCE_ENCODER(review_text)[415]  0.013251\n",
       "1                    POLARITY_SCORE(review_text)  0.011062\n",
       "2  UNIVERSAL_SENTENCE_ENCODER(review_title)[415]  0.010440\n",
       "3    UNIVERSAL_SENTENCE_ENCODER(review_text)[28]  0.008792\n",
       "4   UNIVERSAL_SENTENCE_ENCODER(review_text)[259]  0.008632\n",
       "5   UNIVERSAL_SENTENCE_ENCODER(review_text)[348]  0.008482\n",
       "6                   POLARITY_SCORE(review_title)  0.008099\n",
       "7  UNIVERSAL_SENTENCE_ENCODER(review_title)[289]  0.007232\n",
       "8   UNIVERSAL_SENTENCE_ENCODER(review_title)[28]  0.007077\n",
       "9   UNIVERSAL_SENTENCE_ENCODER(review_text)[375]  0.006498"
      ]
     },
     "execution_count": 16,
     "metadata": {},
     "output_type": "execute_result"
    }
   ],
   "source": [
    "headers = [\"name\", \"score\"]\n",
    "values = pd.DataFrame(sorted(zip(train_feature_matrix.columns, rfc.feature_importances_), key=lambda x: x[1] * -1))\n",
    "\n",
    "values.head(10)"
   ]
  },
  {
   "cell_type": "code",
   "execution_count": 17,
   "metadata": {},
   "outputs": [
    {
     "name": "stderr",
     "output_type": "stream",
     "text": [
      "/Users/featurelabs/.pyenv/versions/3.6.8/lib/python3.6/site-packages/sklearn/svm/base.py:929: ConvergenceWarning: Liblinear failed to converge, increase the number of iterations.\n",
      "  \"the number of iterations.\", ConvergenceWarning)\n"
     ]
    },
    {
     "data": {
      "text/plain": [
       "0.7029478458049887"
      ]
     },
     "execution_count": 17,
     "metadata": {},
     "output_type": "execute_result"
    }
   ],
   "source": [
    "vot = VotingClassifier(voting='soft', estimators=[('lgr', lgr), ('rfc', rfc), ('hgbc', hgbc)], weights=[3, 1, 6])\n",
    "vot.fit(train_feature_matrix, y_train)\n",
    "vot.score(test_feature_matrix, y_test)"
   ]
  },
  {
   "cell_type": "markdown",
   "metadata": {},
   "source": [
    "So, we can see that the highest score we can get with a model is around 70%, which might seem like a pretty poor result. However, given that it is a 5 class classification problem, it is not too bad a score. Furthermore, by examining the confusion matrix, we can see where the model goes wrong and get a better sense of how far off the model is with its predictions."
   ]
  },
  {
   "cell_type": "code",
   "execution_count": 18,
   "metadata": {},
   "outputs": [],
   "source": [
    "def plot_confusion_matrix(y_true, y_pred, classes,\n",
    "                          cmap=plt.cm.Blues):\n",
    "    \"\"\"\n",
    "    This function prints and plots the confusion matrix.\n",
    "    Normalization can be applied by setting `normalize=True`.\n",
    "    From: https://scikit-learn.org/stable/auto_examples/model_selection/plot_confusion_matrix.html#sphx-glr-auto-examples-model-selection-plot-confusion-matrix-py\n",
    "    \"\"\"\n",
    "    title = 'Normalized confusion matrix'\n",
    "\n",
    "    # Compute confusion matrix\n",
    "    cm = sklearn.metrics.confusion_matrix(y_true, y_pred)\n",
    "    # Only use the labels that appear in the data\n",
    "\n",
    "    cm = cm.astype('float') / cm.sum(axis=1)[:, np.newaxis]\n",
    "\n",
    "    fig, ax = plt.subplots()\n",
    "    im = ax.imshow(cm, interpolation='nearest', cmap=cmap)\n",
    "    ax.figure.colorbar(im, ax=ax)\n",
    "    # We want to show all ticks...\n",
    "    ax.set(xticks=np.arange(cm.shape[1]),\n",
    "           yticks=np.arange(cm.shape[0]),\n",
    "           # ... and label them with the respective list entries\n",
    "           xticklabels=classes, yticklabels=classes,\n",
    "           title=title,\n",
    "           ylabel='True label',\n",
    "           xlabel='Predicted label')\n",
    "\n",
    "    # Rotate the tick labels and set their alignment.\n",
    "    plt.setp(ax.get_xticklabels(), rotation=45, ha=\"right\",\n",
    "             rotation_mode=\"anchor\")\n",
    "\n",
    "    # Loop over data dimensions and create text annotations.\n",
    "    thresh = cm.max() / 2.\n",
    "    for i in range(cm.shape[0]):\n",
    "        for j in range(cm.shape[1]):\n",
    "            ax.text(j, i, format(cm[i, j], '.2f'),\n",
    "                    ha=\"center\", va=\"center\",\n",
    "                    color=\"white\" if cm[i, j] > thresh else \"black\")\n",
    "    fig.tight_layout()\n",
    "    return ax"
   ]
  },
  {
   "cell_type": "code",
   "execution_count": 19,
   "metadata": {},
   "outputs": [
    {
     "data": {
      "text/plain": [
       "<matplotlib.axes._subplots.AxesSubplot at 0x17fc4cc50>"
      ]
     },
     "execution_count": 19,
     "metadata": {},
     "output_type": "execute_result"
    },
    {
     "data": {
      "image/png": "[encoded data removed]",
      "text/plain": [
       "<Figure size 432x288 with 2 Axes>"
      ]
     },
     "metadata": {
      "needs_background": "light"
     },
     "output_type": "display_data"
    }
   ],
   "source": [
    "plot_confusion_matrix(y_test, \n",
    "                      vot.predict(test_feature_matrix), \n",
    "                      ['1', '2', '3', '4', '5'])"
   ]
  },
  {
   "cell_type": "code",
   "execution_count": 32,
   "metadata": {},
   "outputs": [
    {
     "data": {
      "text/plain": [
       "<matplotlib.axes._subplots.AxesSubplot at 0x17a704240>"
      ]
     },
     "execution_count": 32,
     "metadata": {},
     "output_type": "execute_result"
    },
    {
     "data": {
      "image/png": "[encoded data removed]",
      "text/plain": [
       "<Figure size 432x288 with 1 Axes>"
      ]
     },
     "metadata": {
      "needs_background": "light"
     },
     "output_type": "display_data"
    }
   ],
   "source": [
    "sns.countplot(x=y_train, palette = sns.cubehelix_palette(8, start=1, rot=-.75))"
   ]
  },
  {
   "cell_type": "code",
   "execution_count": 33,
   "metadata": {},
   "outputs": [
    {
     "data": {
      "text/plain": [
       "<matplotlib.axes._subplots.AxesSubplot at 0x13a5adbe0>"
      ]
     },
     "execution_count": 33,
     "metadata": {},
     "output_type": "execute_result"
    },
    {
     "data": {
      "image/png": "[encoded data removed]",
      "text/plain": [
       "<Figure size 432x288 with 1 Axes>"
      ]
     },
     "metadata": {
      "needs_background": "light"
     },
     "output_type": "display_data"
    }
   ],
   "source": [
    "sns.countplot(x=vot.predict(test_feature_matrix), palette = sns.cubehelix_palette(8, start=1, rot=-.75))"
   ]
  },
  {
   "cell_type": "markdown",
   "metadata": {},
   "source": [
    "So, from looking at the confusion matrix, it is clear that the model is pretty accurate, for when it predicts the star rating wrong, it is generally within one star of the correct answer, which is much better than a model that has the same accuracy but then predicts the wrong ones as a star rating that is very different from the actual outcome. Furthermore, as we can see, the predictions have about the same distribution of star ratings as the training data, which suggests that this model is pretty accurate, and doesn't just predict all of the test data to be in the most frequent category."
   ]
  },
  {
   "cell_type": "markdown",
   "metadata": {},
   "source": [
    "## 5. Next Steps\n",
    "\n",
    "This is an end-to-end example of going from raw text data to a machine learning model with Natural Language Processing Primitives. However, in a problem such as this one, ideally there would be more data available, especially pertaining to the customer who wrote each review, that would make the data structure more complicated, but also give the model more insight into patterns of each reviewer, so that it could make more accurate predictions. Luckily, Featuretools makes it easy to deal with relational datasets, and so this new extra data would be relatively simple to add into the pipeline, just requiring the addition of a new entity to the entityset, and a recalculation of DFS and the following steps with the newly modified entityset.\n",
    "\n",
    "\n",
    "<p>\n",
    "    <img src=\"https://www.featurelabs.com/wp-content/uploads/2017/12/logo.png\" alt=\"Featuretools\" />\n",
    "</p>\n",
    "\n",
    "Featuretools was created by the developers at [Feature Labs](https://www.featurelabs.com/). If building impactful data science pipelines is important to you or your business, please [get in touch](https://www.featurelabs.com/contact/)."
   ]
  },
  {
   "cell_type": "code",
   "execution_count": null,
   "metadata": {},
   "outputs": [],
   "source": []
  }
 ],
 "metadata": {
  "kernelspec": {
   "display_name": "Python 3",
   "language": "python",
   "name": "python3"
  },
  "language_info": {
   "codemirror_mode": {
    "name": "ipython",
    "version": 3
   },
   "file_extension": ".py",
   "mimetype": "text/x-python",
   "name": "python",
   "nbconvert_exporter": "python",
   "pygments_lexer": "ipython3",
   "version": "3.6.8"
  }
 },
 "nbformat": 4,
 "nbformat_minor": 2
}
